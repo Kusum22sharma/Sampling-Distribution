{
 "cells": [
  {
   "cell_type": "markdown",
   "metadata": {},
   "source": [
    "## Sampling Distribution Part B"
   ]
  },
  {
   "cell_type": "markdown",
   "metadata": {},
   "source": [
    "### Introduction\n",
    "\n",
    "1. Understanding the concept of Confidence Interval.\n",
    "2. Estimating the population mean using bootstrapping method.\n"
   ]
  },
  {
   "cell_type": "code",
   "execution_count": 69,
   "metadata": {},
   "outputs": [],
   "source": [
    "# Importig libariries and packages\n",
    "import numpy as np\n",
    "import matplotlib.pyplot as plt\n",
    "import scipy.stats as stats\n",
    "import math\n",
    "import seaborn as sns\n",
    "import os\n",
    "import pandas as pd"
   ]
  },
  {
   "cell_type": "code",
   "execution_count": 70,
   "metadata": {},
   "outputs": [],
   "source": [
    "#Setting the working directory\n",
    "\n",
    "os.chdir(r\"C:\\Users\\kusum\\Desktop\\Python\")"
   ]
  },
  {
   "cell_type": "code",
   "execution_count": 71,
   "metadata": {},
   "outputs": [],
   "source": [
    "# The dataset attrition is read and stored as df\n",
    "\n",
    "df= pd.read_csv(\"attrition.csv\")  "
   ]
  },
  {
   "cell_type": "markdown",
   "metadata": {},
   "source": [
    "## Question :- 1\n",
    "#### a. Consider entire variable as population and calculate mean."
   ]
  },
  {
   "cell_type": "code",
   "execution_count": 72,
   "metadata": {},
   "outputs": [
    {
     "name": "stdout",
     "output_type": "stream",
     "text": [
      "Mean of population:  6502.931292517007\n"
     ]
    }
   ],
   "source": [
    "# Calculating mean of population i.e Monthly Income variable\n",
    "\n",
    "Mean_ppl=np.mean(df.MonthlyIncome)\n",
    "print(\"Mean of population: \",Mean_ppl)"
   ]
  },
  {
   "cell_type": "markdown",
   "metadata": {},
   "source": [
    "#### b. Select the sample S  of size 200 from the population and calculate a 95 % confidence interval estimate of population mean."
   ]
  },
  {
   "cell_type": "code",
   "execution_count": 73,
   "metadata": {},
   "outputs": [
    {
     "name": "stdout",
     "output_type": "stream",
     "text": [
      "Mean of Sample:  6496.57\n",
      "Standard Error of Sample:  338.1411233871148\n",
      "95% confidence interval = 5833.813398161255 , 7159.326601838745\n"
     ]
    }
   ],
   "source": [
    "# Creating a sample S of size 200 \n",
    "\n",
    "S=df.MonthlyIncome.sample(200,random_state=1)\n",
    "\n",
    "# Mean of sample\n",
    "Mean_S=np.mean(S)\n",
    "print(\"Mean of Sample: \",Mean_S)\n",
    "\n",
    "# Standard error of sample\n",
    "Std_error=np.std(S)/np.sqrt(200)\n",
    "print(\"Standard Error of Sample: \",Std_error)\n",
    "\n",
    "# Computing the 95% confidence interval\n",
    "conf_int_a=Mean_S-(1.96*(np.std(S)/np.sqrt(200)))\n",
    "conf_int_b=Mean_S+(1.96*(np.std(S)/np.sqrt(200)))\n",
    "print('95% confidence interval =' , conf_int_a,',',conf_int_b)\n"
   ]
  },
  {
   "cell_type": "markdown",
   "metadata": {},
   "source": [
    "The Mean of the sample is 6496.57 and it is captured in the 95% confidence interval 5833.813 to 7159.326"
   ]
  },
  {
   "cell_type": "markdown",
   "metadata": {},
   "source": [
    "#### c. Repeat step 2 ,1000 times and check how many of those Confidence interval's captures the true population mean."
   ]
  },
  {
   "cell_type": "code",
   "execution_count": 75,
   "metadata": {},
   "outputs": [
    {
     "name": "stdout",
     "output_type": "stream",
     "text": [
      "The number of times mean is captured correctly  953\n",
      "The number of times mean is not-captured correctly  47\n"
     ]
    }
   ],
   "source": [
    "# For counting the no of times mean is captured correctly\n",
    "count=0                              \n",
    "for i in range(0,1000):               \n",
    "    \n",
    "    # Creating a sample D of size 200 \n",
    "    D=df.MonthlyIncome.sample(200)\n",
    "\n",
    "    # Mean of sample\n",
    "    Mean_D=np.mean(D)\n",
    "\n",
    "    # Computing the 95% confidence interval\n",
    "    conf_int_a=Mean_D-(1.96*(np.std(D)/np.sqrt(200)))\n",
    "    conf_int_b=Mean_D+(1.96*(np.std(D)/np.sqrt(200)))\n",
    "    \n",
    "    # Checking if 95% of times the values capture the mean\n",
    "    if Mean_S >=conf_int_a and Mean_S<=conf_int_b:\n",
    "        count=count+1\n",
    "print('The number of times mean is captured correctly ',count)\n",
    "print('The number of times mean is not-captured correctly ',1000-count)\n",
    "\n",
    "\n",
    "\n"
   ]
  },
  {
   "cell_type": "markdown",
   "metadata": {},
   "source": [
    "It is observed that in 95% confidence interval, the population estimate is captured 95 times out of 100 and not captured the remaining 5 times."
   ]
  },
  {
   "cell_type": "markdown",
   "metadata": {},
   "source": [
    "## Question 2: Wide vs Narrow confidence interval.\n",
    "\n",
    "#### a. Collect a sample of size 200 from the population and calculate:-\n",
    "#####                                   1. 90% C.I\n",
    "#####                                   2. 99% C.I\n",
    "#### estimates of the population mean.\n",
    "\n",
    "#### Which one is a wider estimate, state reason."
   ]
  },
  {
   "cell_type": "code",
   "execution_count": 78,
   "metadata": {},
   "outputs": [
    {
     "name": "stdout",
     "output_type": "stream",
     "text": [
      "90% confidence interval = 5940.327852028196 , 7052.812147971804\n",
      "99% confidence interval = 5625.856607278179 , 7367.283392721821\n"
     ]
    }
   ],
   "source": [
    "# Creating a sample S of size 200 \n",
    "\n",
    "S=df.MonthlyIncome.sample(200,random_state=1)\n",
    "\n",
    "# Mean of sample\n",
    "Mean_S=np.mean(S)\n",
    "\n",
    "# Computing the 90% confidence interval\n",
    "CI_90_a=Mean_S-(1.645*(np.std(S)/np.sqrt(200)))\n",
    "CI_90_b=Mean_S+(1.645*(np.std(S)/np.sqrt(200)))\n",
    "print('90% confidence interval =' , CI_90_a,',',CI_90_b)\n",
    "\n",
    "\n",
    "# Computing the 99% confidence interval\n",
    "CI_99_a=Mean_S-(2.575*(np.std(S)/np.sqrt(200)))\n",
    "CI_99_b=Mean_S+(2.575*(np.std(S)/np.sqrt(200)))\n",
    "print('99% confidence interval =' , CI_99_a,',',CI_99_b)"
   ]
  },
  {
   "cell_type": "markdown",
   "metadata": {},
   "source": [
    "The range of 95% C.I is 7052.812147971804 - 5940.327852028196 = 1112.48429594\n",
    "The range of 99% C.I is 7367.283392721821 - 5625.856607278179 = 1741.42678544\n",
    "\n",
    "It is clear that 99% C.I is a wider estimate of population mean.\n",
    "\n",
    "Reason: Bigger the confidence level, wider the interval is, coz with a 90 percent confidence interval, we have a 10 percent chance of missing the estimate of population. And in  99 percent confidence interval we just have 1 percent chance of missing the estimate of population, that mean's it covers the estimates most number of times and is thus wider."
   ]
  },
  {
   "cell_type": "markdown",
   "metadata": {},
   "source": [
    "#### b. Collect 2 samples ffrom the population. S1 of size 200 and S2 of size 400 using both the samples calculate 90% C.I estiamtes of mean. Which one is narrower  ? State a reason."
   ]
  },
  {
   "cell_type": "code",
   "execution_count": 80,
   "metadata": {},
   "outputs": [
    {
     "name": "stdout",
     "output_type": "stream",
     "text": [
      "90% confidence interval for S1= 5940.327852028196 , 7052.812147971804\n",
      "90% confidence interval for S2= 5953.562653352553 , 7058.487346647446\n"
     ]
    }
   ],
   "source": [
    "# Creating a sample S1 of size 200 \n",
    "\n",
    "S1=df.MonthlyIncome.sample(200,random_state=1)\n",
    "\n",
    "# Creating a sample S2 of size 400 \n",
    "\n",
    "S2=df.MonthlyIncome.sample(400,random_state=1)\n",
    "\n",
    "# Mean of sample S1\n",
    "Mean_S1=np.mean(S1)\n",
    "\n",
    "# Mean of sample S2\n",
    "Mean_S2=np.mean(S2)\n",
    "\n",
    "# Computing the 90% confidence interval for S1\n",
    "CI_S1_a=Mean_S1-(1.645*(np.std(S1)/np.sqrt(200)))\n",
    "CI_S1_b=Mean_S1+(1.645*(np.std(S1)/np.sqrt(200)))\n",
    "print('90% confidence interval for S1=' , CI_S1_a,',',CI_S1_b)\n",
    "\n",
    "# Computing the 90% confidence interval for S2\n",
    "CI_S2_a=Mean_S2-(1.645*(np.std(S2)/np.sqrt(200)))\n",
    "CI_S2_b=Mean_S2+(1.645*(np.std(S2)/np.sqrt(200)))\n",
    "print('90% confidence interval for S2=' , CI_S2_a,',',CI_S2_b)"
   ]
  },
  {
   "cell_type": "markdown",
   "metadata": {},
   "source": [
    "Range of C.I for S1 is 1112\n",
    "Range of C.I for S2 is 1105\n",
    "\n",
    "The Sample with a bigger size (S2 of size 400) has a narrow range of confidence interval.\n",
    "\n",
    "Reason: As the sample size increases the value of standard error decreses, which narrows down the range of confidence interval."
   ]
  }
 ],
 "metadata": {
  "kernelspec": {
   "display_name": "Python 3",
   "language": "python",
   "name": "python3"
  },
  "language_info": {
   "codemirror_mode": {
    "name": "ipython",
    "version": 3
   },
   "file_extension": ".py",
   "mimetype": "text/x-python",
   "name": "python",
   "nbconvert_exporter": "python",
   "pygments_lexer": "ipython3",
   "version": "3.7.3"
  }
 },
 "nbformat": 4,
 "nbformat_minor": 2
}
